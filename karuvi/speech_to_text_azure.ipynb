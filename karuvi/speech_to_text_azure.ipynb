{
 "cells": [
  {
   "cell_type": "code",
   "execution_count": 34,
   "id": "49c63f79",
   "metadata": {},
   "outputs": [],
   "source": [
    "import azure.cognitiveservices.speech as speechsdk"
   ]
  },
  {
   "cell_type": "code",
   "execution_count": 35,
   "id": "34079af7",
   "metadata": {},
   "outputs": [],
   "source": [
    "speech_config = speechsdk.SpeechConfig(subscription=\"3b4588130fc04736820ab2306bfd24ce\", region=\"centralindia\")"
   ]
  },
  {
   "cell_type": "code",
   "execution_count": 36,
   "id": "f213e7c0",
   "metadata": {},
   "outputs": [],
   "source": [
    "audio_input = speechsdk.AudioConfig(filename=\"./audio_chunks/sample.wav\")"
   ]
  },
  {
   "cell_type": "code",
   "execution_count": 37,
   "id": "c486e9c8",
   "metadata": {},
   "outputs": [],
   "source": [
    "speech_recognizer = speechsdk.SpeechRecognizer(speech_config=speech_config, audio_config=audio_input)"
   ]
  },
  {
   "cell_type": "code",
   "execution_count": 38,
   "id": "eaeb494a",
   "metadata": {},
   "outputs": [],
   "source": [
    "result = speech_recognizer.recognize_once_async().get()"
   ]
  },
  {
   "cell_type": "code",
   "execution_count": 39,
   "id": "da8ddf4e",
   "metadata": {},
   "outputs": [
    {
     "data": {
      "text/plain": [
       "''"
      ]
     },
     "execution_count": 39,
     "metadata": {},
     "output_type": "execute_result"
    }
   ],
   "source": [
    "result.text"
   ]
  },
  {
   "cell_type": "code",
   "execution_count": null,
   "id": "5f55ee45",
   "metadata": {},
   "outputs": [],
   "source": [
    "\n",
    "import pyautogui\n",
    "for i in range(1000):\n",
    "    pyautogui.typewrite([\"a\"])"
   ]
  },
  {
   "cell_type": "code",
   "execution_count": 28,
   "id": "5707efad",
   "metadata": {},
   "outputs": [],
   "source": [
    "sample_text = \"Adaptation of the first of J.K. Rowling's popular children's xctrla novels xctrlc about Harry Potter, a boy who learns on his eleventh --- xctrlv ---- birthday that he is the orphaned son of two powerful wizards and possesses unique magical powers of his own. He is summoned from his life as an unwanted child to become a student at Hogwarts, an English boarding school for wizards. There, he meets several friends who become his closest allies and help him discover the truth about his parents' mysterious deaths.\"\n",
    "# sample_text = \"ab cd xctrla fg xctrlc jk xctrlv tv\""
   ]
  },
  {
   "cell_type": "code",
   "execution_count": 29,
   "id": "1d085289",
   "metadata": {},
   "outputs": [
    {
     "name": "stdout",
     "output_type": "stream",
     "text": [
      "['Adaptation', 'of', 'the', 'first', 'of', 'J.K.', \"Rowling's\", 'popular', \"children's\"]\n"
     ]
    }
   ],
   "source": [
    "import copy\n",
    "selected_list = []\n",
    "final_list = []\n",
    "copy_list = []\n",
    "for text in sample_text.split(' '):\n",
    "    if text == 'xctrl a':\n",
    "        selected_list = copy.deepcopy(final_list)\n",
    "        continue\n",
    "    if text == 'xctrl c':\n",
    "        copy_list = selected_list\n",
    "        continue\n",
    "    if text == 'xctrl v':\n",
    "        print(copy_list)\n",
    "        final_list.extend(copy_list)\n",
    "        continue\n",
    "\n",
    "    final_list.append(text)\n",
    "    "
   ]
  },
  {
   "cell_type": "code",
   "execution_count": 30,
   "id": "d4d79194",
   "metadata": {},
   "outputs": [
    {
     "data": {
      "text/plain": [
       "['Adaptation',\n",
       " 'of',\n",
       " 'the',\n",
       " 'first',\n",
       " 'of',\n",
       " 'J.K.',\n",
       " \"Rowling's\",\n",
       " 'popular',\n",
       " \"children's\",\n",
       " 'novels',\n",
       " 'about',\n",
       " 'Harry',\n",
       " 'Potter,',\n",
       " 'a',\n",
       " 'boy',\n",
       " 'who',\n",
       " 'learns',\n",
       " 'on',\n",
       " 'his',\n",
       " 'eleventh',\n",
       " '---',\n",
       " 'Adaptation',\n",
       " 'of',\n",
       " 'the',\n",
       " 'first',\n",
       " 'of',\n",
       " 'J.K.',\n",
       " \"Rowling's\",\n",
       " 'popular',\n",
       " \"children's\",\n",
       " '----',\n",
       " 'birthday',\n",
       " 'that',\n",
       " 'he',\n",
       " 'is',\n",
       " 'the',\n",
       " 'orphaned',\n",
       " 'son',\n",
       " 'of',\n",
       " 'two',\n",
       " 'powerful',\n",
       " 'wizards',\n",
       " 'and',\n",
       " 'possesses',\n",
       " 'unique',\n",
       " 'magical',\n",
       " 'powers',\n",
       " 'of',\n",
       " 'his',\n",
       " 'own.',\n",
       " 'He',\n",
       " 'is',\n",
       " 'summoned',\n",
       " 'from',\n",
       " 'his',\n",
       " 'life',\n",
       " 'as',\n",
       " 'an',\n",
       " 'unwanted',\n",
       " 'child',\n",
       " 'to',\n",
       " 'become',\n",
       " 'a',\n",
       " 'student',\n",
       " 'at',\n",
       " 'Hogwarts,',\n",
       " 'an',\n",
       " 'English',\n",
       " 'boarding',\n",
       " 'school',\n",
       " 'for',\n",
       " 'wizards.',\n",
       " 'There,',\n",
       " 'he',\n",
       " 'meets',\n",
       " 'several',\n",
       " 'friends',\n",
       " 'who',\n",
       " 'become',\n",
       " 'his',\n",
       " 'closest',\n",
       " 'allies',\n",
       " 'and',\n",
       " 'help',\n",
       " 'him',\n",
       " 'discover',\n",
       " 'the',\n",
       " 'truth',\n",
       " 'about',\n",
       " 'his',\n",
       " \"parents'\",\n",
       " 'mysterious',\n",
       " 'deaths.']"
      ]
     },
     "execution_count": 30,
     "metadata": {},
     "output_type": "execute_result"
    }
   ],
   "source": [
    "final_list"
   ]
  },
  {
   "cell_type": "code",
   "execution_count": 31,
   "id": "f527c3fc",
   "metadata": {},
   "outputs": [],
   "source": [
    "final_text = \" \".join(text for text in final_list)"
   ]
  },
  {
   "cell_type": "code",
   "execution_count": 32,
   "id": "909c764a",
   "metadata": {},
   "outputs": [
    {
     "data": {
      "text/plain": [
       "\"Adaptation of the first of J.K. Rowling's popular children's novels about Harry Potter, a boy who learns on his eleventh --- Adaptation of the first of J.K. Rowling's popular children's ---- birthday that he is the orphaned son of two powerful wizards and possesses unique magical powers of his own. He is summoned from his life as an unwanted child to become a student at Hogwarts, an English boarding school for wizards. There, he meets several friends who become his closest allies and help him discover the truth about his parents' mysterious deaths.\""
      ]
     },
     "execution_count": 32,
     "metadata": {},
     "output_type": "execute_result"
    }
   ],
   "source": [
    "final_text"
   ]
  },
  {
   "cell_type": "code",
   "execution_count": null,
   "id": "5783b10a",
   "metadata": {},
   "outputs": [],
   "source": []
  },
  {
   "cell_type": "code",
   "execution_count": null,
   "id": "50e11767",
   "metadata": {},
   "outputs": [],
   "source": []
  },
  {
   "cell_type": "code",
   "execution_count": null,
   "id": "e1ece90d",
   "metadata": {},
   "outputs": [],
   "source": []
  },
  {
   "cell_type": "code",
   "execution_count": null,
   "id": "c07cc669",
   "metadata": {},
   "outputs": [],
   "source": []
  },
  {
   "cell_type": "code",
   "execution_count": null,
   "id": "13a9d127",
   "metadata": {},
   "outputs": [],
   "source": []
  },
  {
   "cell_type": "code",
   "execution_count": null,
   "id": "3b49f9cd",
   "metadata": {},
   "outputs": [],
   "source": []
  },
  {
   "cell_type": "code",
   "execution_count": null,
   "id": "6fc367d6",
   "metadata": {},
   "outputs": [],
   "source": []
  },
  {
   "cell_type": "code",
   "execution_count": null,
   "id": "facf9538",
   "metadata": {},
   "outputs": [],
   "source": []
  },
  {
   "cell_type": "code",
   "execution_count": null,
   "id": "e1a3a8bb",
   "metadata": {},
   "outputs": [],
   "source": []
  },
  {
   "cell_type": "code",
   "execution_count": null,
   "id": "74e53267",
   "metadata": {},
   "outputs": [],
   "source": []
  },
  {
   "cell_type": "code",
   "execution_count": null,
   "id": "b227a1a9",
   "metadata": {},
   "outputs": [],
   "source": []
  },
  {
   "cell_type": "code",
   "execution_count": null,
   "id": "ad69138d",
   "metadata": {},
   "outputs": [],
   "source": []
  },
  {
   "cell_type": "code",
   "execution_count": null,
   "id": "f3bee4ab",
   "metadata": {},
   "outputs": [],
   "source": []
  },
  {
   "cell_type": "code",
   "execution_count": null,
   "id": "ed34c0cd",
   "metadata": {},
   "outputs": [],
   "source": []
  },
  {
   "cell_type": "code",
   "execution_count": null,
   "id": "5a09335a",
   "metadata": {},
   "outputs": [],
   "source": []
  },
  {
   "cell_type": "code",
   "execution_count": null,
   "id": "8b2ca390",
   "metadata": {},
   "outputs": [],
   "source": []
  },
  {
   "cell_type": "code",
   "execution_count": null,
   "id": "d5b1f36c",
   "metadata": {},
   "outputs": [],
   "source": []
  },
  {
   "cell_type": "code",
   "execution_count": null,
   "id": "86c723cb",
   "metadata": {},
   "outputs": [],
   "source": []
  },
  {
   "cell_type": "code",
   "execution_count": null,
   "id": "15e808bf",
   "metadata": {},
   "outputs": [],
   "source": []
  },
  {
   "cell_type": "code",
   "execution_count": null,
   "id": "41450e83",
   "metadata": {},
   "outputs": [],
   "source": []
  },
  {
   "cell_type": "code",
   "execution_count": null,
   "id": "99b3f958",
   "metadata": {},
   "outputs": [],
   "source": []
  },
  {
   "cell_type": "code",
   "execution_count": null,
   "id": "79636b37",
   "metadata": {},
   "outputs": [],
   "source": [
    "a"
   ]
  },
  {
   "cell_type": "code",
   "execution_count": null,
   "id": "707764cc",
   "metadata": {},
   "outputs": [],
   "source": []
  },
  {
   "cell_type": "code",
   "execution_count": null,
   "id": "cf2282a8",
   "metadata": {},
   "outputs": [],
   "source": []
  },
  {
   "cell_type": "code",
   "execution_count": null,
   "id": "eabb121a",
   "metadata": {},
   "outputs": [],
   "source": []
  },
  {
   "cell_type": "code",
   "execution_count": null,
   "id": "bfcf9b7c",
   "metadata": {},
   "outputs": [],
   "source": []
  },
  {
   "cell_type": "code",
   "execution_count": null,
   "id": "583eacc8",
   "metadata": {},
   "outputs": [],
   "source": []
  },
  {
   "cell_type": "code",
   "execution_count": null,
   "id": "f252391d",
   "metadata": {},
   "outputs": [],
   "source": []
  },
  {
   "cell_type": "code",
   "execution_count": null,
   "id": "40ceda2e",
   "metadata": {},
   "outputs": [],
   "source": []
  },
  {
   "cell_type": "code",
   "execution_count": null,
   "id": "49355c97",
   "metadata": {},
   "outputs": [],
   "source": []
  },
  {
   "cell_type": "code",
   "execution_count": null,
   "id": "2490bf5a",
   "metadata": {},
   "outputs": [],
   "source": []
  },
  {
   "cell_type": "code",
   "execution_count": null,
   "id": "11e614ee",
   "metadata": {},
   "outputs": [],
   "source": [
    "a"
   ]
  }
 ],
 "metadata": {
  "kernelspec": {
   "display_name": "Python 3",
   "language": "python",
   "name": "python3"
  },
  "language_info": {
   "codemirror_mode": {
    "name": "ipython",
    "version": 3
   },
   "file_extension": ".py",
   "mimetype": "text/x-python",
   "name": "python",
   "nbconvert_exporter": "python",
   "pygments_lexer": "ipython3",
   "version": "3.8.2"
  }
 },
 "nbformat": 4,
 "nbformat_minor": 5
}
